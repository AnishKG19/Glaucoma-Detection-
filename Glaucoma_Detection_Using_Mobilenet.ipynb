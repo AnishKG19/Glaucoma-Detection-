{
 "cells": [
  {
   "cell_type": "code",
   "execution_count": 1,
   "id": "018ea2a0",
   "metadata": {},
   "outputs": [],
   "source": [
    "import os\n",
    "import random \n",
    "import shutil\n",
    "import numpy as np\n",
    "import pandas as pd\n",
    "import matplotlib.pyplot as plt"
   ]
  },
  {
   "cell_type": "code",
   "execution_count": 3,
   "id": "a3def3a0",
   "metadata": {},
   "outputs": [],
   "source": [
    "Original_path = \"D:/G1020\"\n",
    "csv_file_name = \"G1020.csv\"\n",
    "final_csv_path = Original_path+'/'+csv_file_name\n",
    "df = pd.read_csv(final_csv_path)"
   ]
  },
  {
   "cell_type": "code",
   "execution_count": 4,
   "id": "dd679684",
   "metadata": {},
   "outputs": [
    {
     "data": {
      "text/html": [
       "<div>\n",
       "<style scoped>\n",
       "    .dataframe tbody tr th:only-of-type {\n",
       "        vertical-align: middle;\n",
       "    }\n",
       "\n",
       "    .dataframe tbody tr th {\n",
       "        vertical-align: top;\n",
       "    }\n",
       "\n",
       "    .dataframe thead th {\n",
       "        text-align: right;\n",
       "    }\n",
       "</style>\n",
       "<table border=\"1\" class=\"dataframe\">\n",
       "  <thead>\n",
       "    <tr style=\"text-align: right;\">\n",
       "      <th></th>\n",
       "      <th>Unnamed: 0</th>\n",
       "      <th>patientID</th>\n",
       "      <th>imageName</th>\n",
       "      <th>imageID</th>\n",
       "      <th>Left/Right</th>\n",
       "      <th>detailedLabels</th>\n",
       "      <th>binaryLabels</th>\n",
       "      <th>diagnosis</th>\n",
       "      <th>gLabels</th>\n",
       "    </tr>\n",
       "  </thead>\n",
       "  <tbody>\n",
       "    <tr>\n",
       "      <th>0</th>\n",
       "      <td>0</td>\n",
       "      <td>01i3xmj4pn72zfs</td>\n",
       "      <td>3a7a9f0f-c07e-4f67-bd16-0a9a1881e02e.jpg</td>\n",
       "      <td>image_0.jpg</td>\n",
       "      <td>Right</td>\n",
       "      <td>0a</td>\n",
       "      <td>0</td>\n",
       "      <td>Astigmatismus(G) [H52.2 G], Myopie(G) [H52.1 G...</td>\n",
       "      <td>NaN</td>\n",
       "    </tr>\n",
       "    <tr>\n",
       "      <th>1</th>\n",
       "      <td>1</td>\n",
       "      <td>01i3xmj4pn72zfs</td>\n",
       "      <td>4b7ee8f5-6857-48da-be09-6a0bd94a154c.jpg</td>\n",
       "      <td>image_1.jpg</td>\n",
       "      <td>Right</td>\n",
       "      <td>0a</td>\n",
       "      <td>0</td>\n",
       "      <td>Astigmatismus(G) [H52.2 G], Myopie(G) [H52.1 G...</td>\n",
       "      <td>NaN</td>\n",
       "    </tr>\n",
       "    <tr>\n",
       "      <th>2</th>\n",
       "      <td>2</td>\n",
       "      <td>01xj1ghjy3l6o6u</td>\n",
       "      <td>ddec854e-49b1-45d5-9b06-2dab791b1b9d.jpg</td>\n",
       "      <td>image_3.jpg</td>\n",
       "      <td>Left</td>\n",
       "      <td>0a</td>\n",
       "      <td>0</td>\n",
       "      <td>Hyperopie [H52.0 G], Astigmatismus [H52.2 G], ...</td>\n",
       "      <td>NaN</td>\n",
       "    </tr>\n",
       "    <tr>\n",
       "      <th>3</th>\n",
       "      <td>3</td>\n",
       "      <td>01xj1ghjy3l6o6u</td>\n",
       "      <td>f9443abe-7964-42c3-b334-2bb4d0a18f26.jpg</td>\n",
       "      <td>image_4.jpg</td>\n",
       "      <td>Left</td>\n",
       "      <td>0a</td>\n",
       "      <td>0</td>\n",
       "      <td>Hyperopie [H52.0 G], Astigmatismus [H52.2 G], ...</td>\n",
       "      <td>NaN</td>\n",
       "    </tr>\n",
       "    <tr>\n",
       "      <th>4</th>\n",
       "      <td>4</td>\n",
       "      <td>01y4pkeg937rph1</td>\n",
       "      <td>54a0924f-21c1-4603-8e4a-c39d386b0919.jpg</td>\n",
       "      <td>image_5.jpg</td>\n",
       "      <td>Right</td>\n",
       "      <td>0a</td>\n",
       "      <td>0</td>\n",
       "      <td>Astigmatismus [H52.2 G], Myopie [H52.1 G], Pre...</td>\n",
       "      <td>NaN</td>\n",
       "    </tr>\n",
       "  </tbody>\n",
       "</table>\n",
       "</div>"
      ],
      "text/plain": [
       "   Unnamed: 0        patientID                                 imageName  \\\n",
       "0           0  01i3xmj4pn72zfs  3a7a9f0f-c07e-4f67-bd16-0a9a1881e02e.jpg   \n",
       "1           1  01i3xmj4pn72zfs  4b7ee8f5-6857-48da-be09-6a0bd94a154c.jpg   \n",
       "2           2  01xj1ghjy3l6o6u  ddec854e-49b1-45d5-9b06-2dab791b1b9d.jpg   \n",
       "3           3  01xj1ghjy3l6o6u  f9443abe-7964-42c3-b334-2bb4d0a18f26.jpg   \n",
       "4           4  01y4pkeg937rph1  54a0924f-21c1-4603-8e4a-c39d386b0919.jpg   \n",
       "\n",
       "       imageID Left/Right detailedLabels  binaryLabels  \\\n",
       "0  image_0.jpg      Right             0a             0   \n",
       "1  image_1.jpg      Right             0a             0   \n",
       "2  image_3.jpg       Left             0a             0   \n",
       "3  image_4.jpg       Left             0a             0   \n",
       "4  image_5.jpg      Right             0a             0   \n",
       "\n",
       "                                           diagnosis gLabels  \n",
       "0  Astigmatismus(G) [H52.2 G], Myopie(G) [H52.1 G...     NaN  \n",
       "1  Astigmatismus(G) [H52.2 G], Myopie(G) [H52.1 G...     NaN  \n",
       "2  Hyperopie [H52.0 G], Astigmatismus [H52.2 G], ...     NaN  \n",
       "3  Hyperopie [H52.0 G], Astigmatismus [H52.2 G], ...     NaN  \n",
       "4  Astigmatismus [H52.2 G], Myopie [H52.1 G], Pre...     NaN  "
      ]
     },
     "execution_count": 4,
     "metadata": {},
     "output_type": "execute_result"
    }
   ],
   "source": [
    "df.head()"
   ]
  },
  {
   "cell_type": "code",
   "execution_count": 60,
   "id": "510e0f4a",
   "metadata": {},
   "outputs": [],
   "source": [
    "df_2 = df.copy()"
   ]
  },
  {
   "cell_type": "code",
   "execution_count": 71,
   "id": "cc525c35",
   "metadata": {},
   "outputs": [],
   "source": [
    "df.drop(['Unnamed: 0','patientID' , 'imageName' , 'Left/Right', 'detailedLabels', 'diagnosis','gLabels'],inplace = True, axis =1)\n"
   ]
  },
  {
   "cell_type": "code",
   "execution_count": 62,
   "id": "25c143bf",
   "metadata": {},
   "outputs": [
    {
     "data": {
      "text/html": [
       "<div>\n",
       "<style scoped>\n",
       "    .dataframe tbody tr th:only-of-type {\n",
       "        vertical-align: middle;\n",
       "    }\n",
       "\n",
       "    .dataframe tbody tr th {\n",
       "        vertical-align: top;\n",
       "    }\n",
       "\n",
       "    .dataframe thead th {\n",
       "        text-align: right;\n",
       "    }\n",
       "</style>\n",
       "<table border=\"1\" class=\"dataframe\">\n",
       "  <thead>\n",
       "    <tr style=\"text-align: right;\">\n",
       "      <th></th>\n",
       "      <th>imageID</th>\n",
       "      <th>binaryLabels</th>\n",
       "    </tr>\n",
       "  </thead>\n",
       "  <tbody>\n",
       "    <tr>\n",
       "      <th>0</th>\n",
       "      <td>image_0.jpg</td>\n",
       "      <td>0</td>\n",
       "    </tr>\n",
       "    <tr>\n",
       "      <th>1</th>\n",
       "      <td>image_1.jpg</td>\n",
       "      <td>0</td>\n",
       "    </tr>\n",
       "    <tr>\n",
       "      <th>2</th>\n",
       "      <td>image_3.jpg</td>\n",
       "      <td>0</td>\n",
       "    </tr>\n",
       "    <tr>\n",
       "      <th>3</th>\n",
       "      <td>image_4.jpg</td>\n",
       "      <td>0</td>\n",
       "    </tr>\n",
       "    <tr>\n",
       "      <th>4</th>\n",
       "      <td>image_5.jpg</td>\n",
       "      <td>0</td>\n",
       "    </tr>\n",
       "  </tbody>\n",
       "</table>\n",
       "</div>"
      ],
      "text/plain": [
       "       imageID  binaryLabels\n",
       "0  image_0.jpg             0\n",
       "1  image_1.jpg             0\n",
       "2  image_3.jpg             0\n",
       "3  image_4.jpg             0\n",
       "4  image_5.jpg             0"
      ]
     },
     "execution_count": 62,
     "metadata": {},
     "output_type": "execute_result"
    }
   ],
   "source": [
    "df_2.head()"
   ]
  },
  {
   "cell_type": "code",
   "execution_count": 106,
   "id": "36ff11e8",
   "metadata": {},
   "outputs": [
    {
     "data": {
      "text/plain": [
       "array([['image_0.jpg', 0],\n",
       "       ['image_1.jpg', 0],\n",
       "       ['image_3.jpg', 0],\n",
       "       ...,\n",
       "       ['image_3201.jpg', 1],\n",
       "       ['image_3202.jpg', 1],\n",
       "       ['image_2568.jpg', 0]], dtype=object)"
      ]
     },
     "execution_count": 106,
     "metadata": {},
     "output_type": "execute_result"
    }
   ],
   "source": [
    "df.values"
   ]
  },
  {
   "cell_type": "code",
   "execution_count": 51,
   "id": "83eb84b9",
   "metadata": {},
   "outputs": [
    {
     "data": {
      "text/plain": [
       "(1020, 2)"
      ]
     },
     "execution_count": 51,
     "metadata": {},
     "output_type": "execute_result"
    }
   ],
   "source": [
    "df_2.shape"
   ]
  },
  {
   "cell_type": "code",
   "execution_count": 95,
   "id": "e4ad0db3",
   "metadata": {},
   "outputs": [],
   "source": [
    "Image_dirc = \"D:/G1020\""
   ]
  },
  {
   "cell_type": "code",
   "execution_count": 108,
   "id": "ca2c2b19",
   "metadata": {},
   "outputs": [],
   "source": [
    "os.mkdir('D:/Glaucoma_Image')"
   ]
  },
  {
   "cell_type": "code",
   "execution_count": 111,
   "id": "2f3b6038",
   "metadata": {},
   "outputs": [],
   "source": [
    "Glaucoma_folder = \"D:/Glaucoma_Image\"\n",
    "Original_path = \"D:/G1020\"\n",
    "Glaucoma = \"D:/Glaucoma_Image\""
   ]
  },
  {
   "cell_type": "code",
   "execution_count": 112,
   "id": "f37effff",
   "metadata": {},
   "outputs": [],
   "source": [
    "for fname, class_name in df.values:\n",
    "    if not os.path.exists(Glaucoma + str(class_name)):\n",
    "        os.mkdir(Glaucoma+str(class_name))\n",
    "    src_path = Original_path + '/'+ fname\n",
    "    dst_path = Glaucoma+ str(class_name)+'/'+fname\n",
    "    shutil.copy(src_path , dst_path)\n",
    "    "
   ]
  },
  {
   "cell_type": "code",
   "execution_count": 104,
   "id": "74ee0522",
   "metadata": {},
   "outputs": [],
   "source": []
  },
  {
   "cell_type": "code",
   "execution_count": 100,
   "id": "8422be24",
   "metadata": {},
   "outputs": [],
   "source": [
    "split_ratio = 0.7"
   ]
  },
  {
   "cell_type": "code",
   "execution_count": 119,
   "id": "2f1bfa62",
   "metadata": {},
   "outputs": [],
   "source": [
    "output_dir = \"D:/GLCM_NEW\""
   ]
  },
  {
   "cell_type": "code",
   "execution_count": 120,
   "id": "add42f08",
   "metadata": {},
   "outputs": [],
   "source": [
    "train = os.path.join(output_dirc, \"train\")\n",
    "test = os.path.join(output_dirc, \"test\")"
   ]
  },
  {
   "cell_type": "code",
   "execution_count": 124,
   "id": "3811f9f2",
   "metadata": {},
   "outputs": [
    {
     "data": {
      "text/plain": [
       "('D:/G_Image_all\\\\train', 'D:/G_Image_all\\\\test')"
      ]
     },
     "execution_count": 124,
     "metadata": {},
     "output_type": "execute_result"
    }
   ],
   "source": []
  },
  {
   "cell_type": "code",
   "execution_count": 125,
   "id": "2ca4da40",
   "metadata": {},
   "outputs": [],
   "source": [
    "total_class = 2\n",
    "\n",
    "if not os.path.isdir(train):\n",
    "    os.mkdir(\"D:/GLCM_NEW/Train\")\n",
    "\n",
    "if not os.path.isdir(test):\n",
    "    os.mkdir(\"D:/GLCM_NEW/Test\")\n",
    "    "
   ]
  },
  {
   "cell_type": "code",
   "execution_count": 127,
   "id": "cbbd1efc",
   "metadata": {},
   "outputs": [],
   "source": [
    "\n",
    "for i in range(total_class):\n",
    "    \n",
    "    path_of_dir = \"D:/GLCM_NEW/Train/\"+str(i)\n",
    "    \n",
    "    if not os.path.isdir(path_of_dir):\n",
    "        os.mkdir(\"D:/GLCM_NEW/Train/\"+str(i))\n",
    "    \n",
    "\n",
    "\n"
   ]
  },
  {
   "cell_type": "code",
   "execution_count": 128,
   "id": "810e38b7",
   "metadata": {},
   "outputs": [],
   "source": [
    "for i in range(total_class):\n",
    "    \n",
    "    path_of_dir = \"D:/GLCM_NEW/Train/\"+str(i)\n",
    "    \n",
    "    if not os.path.isdir(path_of_dir):\n",
    "        os.mkdir(\"D:/GLCM_NEW/Train/\"+str(i))\n",
    "    \n"
   ]
  },
  {
   "cell_type": "code",
   "execution_count": null,
   "id": "dc274c99",
   "metadata": {},
   "outputs": [],
   "source": [
    "image_files = [f for f in os.listdir(image_directory) if os.path.isfile(os.path.join(image_directory , f))]"
   ]
  },
  {
   "cell_type": "code",
   "execution_count": 113,
   "id": "5e3b0e3d",
   "metadata": {},
   "outputs": [],
   "source": [
    "\n",
    "\n",
    "# Set the path to the directory containing your images\n",
    "\n",
    "image_directory = \"D:/Glaucoma_Image0\"\n",
    "\n",
    "# Set the path to the directory where you want to save the split folders\n",
    "train_path = \"D:/GLCM_NEW/Train/0\"\n",
    "\n",
    "\n",
    "test_path = \"D:/GLCM_NEW/Test/0\"\n",
    "\n",
    "# Set the desired split ratio (0.5 for 50% in each folder)\n",
    "split_ratio = 0.7\n",
    "\n",
    "# # Create the two split folders if they don't exist\n",
    "# folder1 = os.path.join(output_directory, \"folder1\")\n",
    "# folder2 = os.path.join(output_directory, \"folder2\")\n",
    "\n",
    "\n",
    "# if not os.path.isdir(folder1):\n",
    "#     os.makedirs(folder1)\n",
    "\n",
    "# if not os.path.isdir(folder2):\n",
    "#     os.makedirs(folder2)\n",
    "\n",
    "# Get a list of all image files in the directory\n",
    "image_files = [f for f in os.listdir(image_directory) if os.path.isfile(os.path.join(image_directory, f))]\n",
    "\n",
    "# Shuffle the image files randomly\n",
    "random.shuffle(image_files)\n",
    "\n"
   ]
  },
  {
   "cell_type": "code",
   "execution_count": 132,
   "id": "56caacad",
   "metadata": {},
   "outputs": [
    {
     "data": {
      "text/plain": [
       "'image_1.jpg'"
      ]
     },
     "execution_count": 132,
     "metadata": {},
     "output_type": "execute_result"
    }
   ],
   "source": [
    "image_files[3]"
   ]
  },
  {
   "cell_type": "code",
   "execution_count": 138,
   "id": "3cb87f56",
   "metadata": {},
   "outputs": [
    {
     "name": "stdout",
     "output_type": "stream",
     "text": [
      "296\n"
     ]
    }
   ],
   "source": [
    "total_images = len(image_files)\n",
    "print(total_images)"
   ]
  },
  {
   "cell_type": "code",
   "execution_count": 139,
   "id": "4ffaa640",
   "metadata": {},
   "outputs": [
    {
     "data": {
      "text/plain": [
       "(296, 207, -210)"
      ]
     },
     "execution_count": 139,
     "metadata": {},
     "output_type": "execute_result"
    }
   ],
   "source": [
    "train_images = int(total_images * split_ratio)\n",
    "test_images = total_images - folder1_images\n",
    "\n",
    "total_images , train_images , test_images"
   ]
  },
  {
   "cell_type": "code",
   "execution_count": 142,
   "id": "91af6ea4",
   "metadata": {},
   "outputs": [
    {
     "name": "stdout",
     "output_type": "stream",
     "text": [
      "724\n",
      "506\n",
      "218\n",
      "296\n",
      "207\n",
      "89\n"
     ]
    }
   ],
   "source": [
    "# image_directory = \"D:/Glaucoma_Image0\"\n",
    "total_class = 2\n",
    "for i in range(total_class):\n",
    "    image_directory = \"D:/Glaucoma_Image\"+str(i)\n",
    "\n",
    "    training_path = \"D:/GLCM_NEW/Train/\"+str(i)\n",
    "    testing_path = \"D:/GLCM_NEW/Test/\"+str(i)\n",
    "    \n",
    "    image_files = [f for f in os.listdir(image_directory) if os.path.isfile(os.path.join(image_directory, f))]\n",
    "    total_images_class = len(image_files)\n",
    "    total_images = len(image_files)\n",
    "    train_images = int(total_images * split_ratio)\n",
    "    test_images = total_images - train_images\n",
    "    print(total_images)\n",
    "    print(train_images)\n",
    "    print(test_images)\n",
    "\n",
    "# Move the images to the Training Classes\n",
    "    for j in range(train_images):\n",
    "        image = image_files[j]\n",
    "        source_path = os.path.join(image_directory, image)\n",
    "        destination_path = os.path.join(training_path, image)\n",
    "        shutil.copy(source_path, destination_path)\n",
    "\n",
    "#     # Move the images to the Testing Classes\n",
    "    for j in range(train_images, total_images):\n",
    "        image = image_files[j]\n",
    "        source_path = os.path.join(image_directory, image)\n",
    "        destination_path = os.path.join(testing_path, image)\n",
    "        shutil.copy(source_path, destination_path)\n",
    "\n",
    "#     print(\"Splitting complete. Images divided into two folders.\")\n"
   ]
  },
  {
   "cell_type": "code",
   "execution_count": null,
   "id": "063f4fef",
   "metadata": {},
   "outputs": [],
   "source": [
    "#  here We have divided the images into train and test \n",
    "\n"
   ]
  },
  {
   "cell_type": "code",
   "execution_count": 145,
   "id": "73cf84e4",
   "metadata": {},
   "outputs": [],
   "source": [
    "test_path = \"D:/GLCM_NEW/Test\"\n",
    "train_path = \"D:/GLCM_NEW/Train\""
   ]
  },
  {
   "cell_type": "code",
   "execution_count": 158,
   "id": "573d57c5",
   "metadata": {},
   "outputs": [
    {
     "name": "stdout",
     "output_type": "stream",
     "text": [
      "Found 713 images belonging to 2 classes.\n",
      "Found 307 images belonging to 2 classes.\n"
     ]
    }
   ],
   "source": [
    "import tensorflow as tf\n",
    "train_datagen=tf.keras.preprocessing.image.ImageDataGenerator(\n",
    "   rescale=1./255,\n",
    "    zoom_range=0.4\n",
    ")\n",
    "\n",
    "test_datagen=tf.keras.preprocessing.image.ImageDataGenerator(\n",
    "     rescale=1./255 )\n",
    "\n",
    "\n",
    "train_datagen=train_datagen.flow_from_directory(\n",
    "     train_path,\n",
    "    target_size=(224 ,224),\n",
    "    batch_size=12,\n",
    "    class_mode='categorical'\n",
    ")\n",
    "\n",
    "\n",
    "test_datagen=test_datagen.flow_from_directory(\n",
    "     test_path,\n",
    "    target_size=(224 ,224),\n",
    "    batch_size=12,\n",
    "    class_mode='categorical'\n",
    ")\n",
    "\n",
    "\n"
   ]
  },
  {
   "cell_type": "code",
   "execution_count": 148,
   "id": "cad481ab",
   "metadata": {},
   "outputs": [],
   "source": [
    "from tensorflow.keras.applications import MobileNet\n",
    "from tensorflow.keras.models import Model\n",
    "from tensorflow.keras.layers import Dense, Input , Flatten\n",
    "\n"
   ]
  },
  {
   "cell_type": "code",
   "execution_count": 149,
   "id": "f9ad5b64",
   "metadata": {},
   "outputs": [
    {
     "name": "stdout",
     "output_type": "stream",
     "text": [
      "Downloading data from https://storage.googleapis.com/tensorflow/keras-applications/mobilenet/mobilenet_1_0_224_tf_no_top.h5\n",
      "17225924/17225924 [==============================] - 3s 0us/step\n"
     ]
    }
   ],
   "source": [
    "base_model = MobileNet(weights='imagenet', include_top=False, input_shape=(224, 224, 3))\n"
   ]
  },
  {
   "cell_type": "code",
   "execution_count": 151,
   "id": "1d8593bc",
   "metadata": {},
   "outputs": [],
   "source": [
    "for layer in base_model.layers:\n",
    "    layer.trainable = True"
   ]
  },
  {
   "cell_type": "code",
   "execution_count": 153,
   "id": "d85fda23",
   "metadata": {},
   "outputs": [],
   "source": [
    "inputs = Input(shape=(224, 224, 3))\n",
    "x = base_model(inputs)\n",
    "x1 = Flatten()(x)\n",
    "outputs = Dense(2, activation='softmax')(x1)"
   ]
  },
  {
   "cell_type": "code",
   "execution_count": 154,
   "id": "3fb184f2",
   "metadata": {},
   "outputs": [],
   "source": [
    "final_model = Model(inputs=inputs, outputs=outputs)"
   ]
  },
  {
   "cell_type": "code",
   "execution_count": 155,
   "id": "bb87e56c",
   "metadata": {},
   "outputs": [
    {
     "name": "stdout",
     "output_type": "stream",
     "text": [
      "Model: \"model\"\n",
      "_________________________________________________________________\n",
      " Layer (type)                Output Shape              Param #   \n",
      "=================================================================\n",
      " input_3 (InputLayer)        [(None, 224, 224, 3)]     0         \n",
      "                                                                 \n",
      " mobilenet_1.00_224 (Functio  (None, 7, 7, 1024)       3228864   \n",
      " nal)                                                            \n",
      "                                                                 \n",
      " flatten (Flatten)           (None, 50176)             0         \n",
      "                                                                 \n",
      " dense (Dense)               (None, 2)                 100354    \n",
      "                                                                 \n",
      "=================================================================\n",
      "Total params: 3,329,218\n",
      "Trainable params: 3,307,330\n",
      "Non-trainable params: 21,888\n",
      "_________________________________________________________________\n"
     ]
    }
   ],
   "source": [
    "final_model.summary()"
   ]
  },
  {
   "cell_type": "code",
   "execution_count": 156,
   "id": "97b1a026",
   "metadata": {},
   "outputs": [],
   "source": [
    "final_model.compile(loss='categorical_crossentropy', optimizer='adam', metrics=['accuracy'])"
   ]
  },
  {
   "cell_type": "code",
   "execution_count": 159,
   "id": "8972935c",
   "metadata": {},
   "outputs": [
    {
     "name": "stdout",
     "output_type": "stream",
     "text": [
      "Epoch 1/15\n",
      "60/60 [==============================] - 269s 4s/step - loss: 7.0299 - accuracy: 0.5764\n",
      "Epoch 2/15\n",
      "60/60 [==============================] - 223s 4s/step - loss: 2.7568 - accuracy: 0.6087\n",
      "Epoch 3/15\n",
      "60/60 [==============================] - 206s 3s/step - loss: 1.4859 - accuracy: 0.6620\n",
      "Epoch 4/15\n",
      "60/60 [==============================] - 208s 3s/step - loss: 1.7676 - accuracy: 0.6592\n",
      "Epoch 5/15\n",
      "60/60 [==============================] - 214s 4s/step - loss: 1.3642 - accuracy: 0.6213\n",
      "Epoch 6/15\n",
      "60/60 [==============================] - 127s 2s/step - loss: 0.9399 - accuracy: 0.6550\n",
      "Epoch 7/15\n",
      "60/60 [==============================] - 108s 2s/step - loss: 0.7764 - accuracy: 0.6971\n",
      "Epoch 8/15\n",
      "60/60 [==============================] - 102s 2s/step - loss: 1.0988 - accuracy: 0.6900\n",
      "Epoch 9/15\n",
      "60/60 [==============================] - 111s 2s/step - loss: 1.2934 - accuracy: 0.6774\n",
      "Epoch 10/15\n",
      "60/60 [==============================] - 92s 2s/step - loss: 1.1149 - accuracy: 0.6494\n",
      "Epoch 11/15\n",
      "60/60 [==============================] - 108s 2s/step - loss: 0.8934 - accuracy: 0.6802\n",
      "Epoch 12/15\n",
      "60/60 [==============================] - 98s 2s/step - loss: 0.7342 - accuracy: 0.6830\n",
      "Epoch 13/15\n",
      "60/60 [==============================] - 89s 1s/step - loss: 0.7184 - accuracy: 0.6858\n",
      "Epoch 14/15\n",
      "60/60 [==============================] - 89s 1s/step - loss: 0.7191 - accuracy: 0.6900\n",
      "Epoch 15/15\n",
      "60/60 [==============================] - 87s 1s/step - loss: 0.5416 - accuracy: 0.7602\n"
     ]
    }
   ],
   "source": [
    "history1=final_model.fit(train_datagen,epochs=15)"
   ]
  },
  {
   "cell_type": "code",
   "execution_count": 160,
   "id": "4aaae475",
   "metadata": {},
   "outputs": [],
   "source": [
    "final_model.save('D:/Saved_model/mobilenet_15.h5')"
   ]
  },
  {
   "cell_type": "code",
   "execution_count": 161,
   "id": "af36f58e",
   "metadata": {},
   "outputs": [
    {
     "name": "stdout",
     "output_type": "stream",
     "text": [
      "26/26 [==============================] - 45s 2s/step\n",
      "[[168  50]\n",
      " [ 70  19]]\n"
     ]
    }
   ],
   "source": [
    "import numpy as np\n",
    "from sklearn.metrics import confusion_matrix\n",
    "from keras.models import load_model\n",
    "\n",
    "model_load =load_model('D:/Saved_model/mobilenet_15.h5')\n",
    "\n",
    "y_true = test_datagen.classes\n",
    "y_pred = model_load.predict(test_datagen)\n",
    "y_pred_classes = np.argmax(y_pred, axis=1)\n",
    "confusion_mtx = confusion_matrix(y_true, y_pred_classes)\n",
    "print(confusion_mtx)"
   ]
  },
  {
   "cell_type": "code",
   "execution_count": 168,
   "id": "da0df372",
   "metadata": {},
   "outputs": [
    {
     "data": {
      "image/png": "[encoded data removed]",
      "text/plain": [
       "<Figure size 432x288 with 2 Axes>"
      ]
     },
     "metadata": {
      "needs_background": "light"
     },
     "output_type": "display_data"
    }
   ],
   "source": [
    "\n",
    "\n",
    "# Step 4: Assign class labels\n",
    "class_labels = list(test_datagen.class_indices.keys())\n",
    "# confusion_mtx = confusion_matrix(y_true, y_pred_classes)\n",
    "plt.imshow(confusion_mtx, interpolation='nearest', cmap=plt.cm.Blues)\n",
    "plt.title('Confusion Matrix')\n",
    "plt.colorbar()\n",
    "\n",
    "\n",
    "tick_marks = np.arange(len(class_labels))\n",
    "plt.xticks(tick_marks, class_labels, rotation=45)\n",
    "plt.yticks(tick_marks, class_labels)\n",
    "plt.xlabel('Predicted Label')\n",
    "plt.ylabel('True Label')\n",
    "plt.show()"
   ]
  },
  {
   "cell_type": "code",
   "execution_count": 162,
   "id": "3b4181d4",
   "metadata": {},
   "outputs": [
    {
     "data": {
      "image/png": "[encoded data removed]",
      "text/plain": [
       "<Figure size 432x288 with 1 Axes>"
      ]
     },
     "metadata": {
      "needs_background": "light"
     },
     "output_type": "display_data"
    }
   ],
   "source": [
    "# import matplotlib.pyplot as plt\n",
    "accuracy1 = history1.history['accuracy']\n",
    "# val_accuracy1 = history1.history['val_accuracy']\n",
    "loss1 = history1.history['loss']\n",
    "# val_loss1 = history1.history['val_loss']\n",
    "\n",
    "epochs = range(1, len(accuracy1) + 1)\n",
    "\n",
    "# Plot accuracy\n",
    "plt.plot(epochs, accuracy1, 'r', label='Training Accuracy')\n",
    "# plt.plot(epochs, val_accuracy1, 'b', label='Validation Accuracy')\n",
    "plt.title('Training Accuracy')\n",
    "plt.xlabel('Epochs')\n",
    "plt.ylabel('Accuracy')\n",
    "plt.legend()\n",
    "plt.show()"
   ]
  },
  {
   "cell_type": "code",
   "execution_count": 169,
   "id": "df644c55",
   "metadata": {},
   "outputs": [
    {
     "data": {
      "text/plain": [
       "0.6091205211726385"
      ]
     },
     "execution_count": 169,
     "metadata": {},
     "output_type": "execute_result"
    }
   ],
   "source": [
    "from sklearn.metrics import accuracy_score\n",
    "\n",
    "accuracy_score(y_true , y_pred_classes)"
   ]
  }
 ],
 "metadata": {
  "kernelspec": {
   "display_name": "Python 3 (ipykernel)",
   "language": "python",
   "name": "python3"
  },
  "language_info": {
   "codemirror_mode": {
    "name": "ipython",
    "version": 3
   },
   "file_extension": ".py",
   "mimetype": "text/x-python",
   "name": "python",
   "nbconvert_exporter": "python",
   "pygments_lexer": "ipython3",
   "version": "3.9.7"
  }
 },
 "nbformat": 4,
 "nbformat_minor": 5
}
